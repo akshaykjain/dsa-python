{
 "cells": [
  {
   "cell_type": "markdown",
   "metadata": {},
   "source": [
    "# Python Sorting Algorithms"
   ]
  },
  {
   "cell_type": "markdown",
   "metadata": {},
   "source": [
    "### 1. Bubble Sort\n",
    "ref https://www.youtube.com/watch?v=xli_FI7CuzA\n",
    "<br>Time Complexity: O(n^2)\n",
    "<br>Space Complexity: O(1)"
   ]
  },
  {
   "cell_type": "code",
   "execution_count": 66,
   "metadata": {},
   "outputs": [
    {
     "name": "stdout",
     "output_type": "stream",
     "text": [
      "Input = [8, 2, 2, 2, 1234, 64356, 23, 234, 123, 45345, 26, 4, 5]\n",
      "Bubble Sort Output = [2, 2, 2, 4, 5, 8, 23, 26, 123, 234, 1234, 45345, 64356]\n"
     ]
    }
   ],
   "source": [
    "def bubbleSort(array,n):\n",
    "    if n < 2:\n",
    "        return arr\n",
    "    for i in range(n):\n",
    "        for j in range(n-i-1):\n",
    "            if array[j] > array[j+1]:\n",
    "                array[j],array[j+1]=array[j+1],array[j]\n",
    "    return array\n",
    "\n",
    "array = [8,2,2,2,1234,64356,23,234,123,45345,26,4,5]\n",
    "n = len(array)\n",
    "print (\"Input = {}\".format(array))\n",
    "print (\"Bubble Sort Output = {}\".format(bubbleSort(array,n)))"
   ]
  },
  {
   "cell_type": "markdown",
   "metadata": {},
   "source": [
    "### 2.Insertion Sort\n",
    "ref https://www.youtube.com/watch?v=JU767SDMDvA\n",
    "<br>Time Complexity: O(n^2)\n",
    "<br>Space Complexity: O(1)"
   ]
  },
  {
   "cell_type": "code",
   "execution_count": 51,
   "metadata": {},
   "outputs": [
    {
     "name": "stdout",
     "output_type": "stream",
     "text": [
      "Input = [8, 2, 6, 4, 5]\n",
      "Insertion Sort Output = [2, 4, 5, 6, 8]\n"
     ]
    }
   ],
   "source": [
    "def insertionSort(array,n):\n",
    "    for i in range(1,n):\n",
    "        key_item=array[i]\n",
    "        j=i-1\n",
    "        while j>=0 and array[j] > key_item:\n",
    "            array[j+1]=array[j]\n",
    "            j-=1\n",
    "        array[j+1]=key_item\n",
    "    return array\n",
    "\n",
    "array = [8,2,6,4,5]\n",
    "n = len(array)\n",
    "print (\"Input = {}\".format(array))\n",
    "print (\"Insertion Sort Output = {}\".format(insertionSort(array,n)))"
   ]
  },
  {
   "cell_type": "markdown",
   "metadata": {},
   "source": [
    "### 3. Merge Sort\n",
    "ref https://www.youtube.com/watch?v=4VqmGXwpLqc&t=111s\n",
    "<br>Time Complexity: O(nlogn)\n",
    "<br>Space Complexity: O(n)"
   ]
  },
  {
   "cell_type": "code",
   "execution_count": 42,
   "metadata": {},
   "outputs": [
    {
     "name": "stdout",
     "output_type": "stream",
     "text": [
      "Input = [8, 2, 6, 4, 5]\n",
      "Merge Sort Output = [2, 4, 5, 6, 8]\n"
     ]
    }
   ],
   "source": [
    "def mergeSort(array):\n",
    "    if (len(array) < 2):\n",
    "        return array\n",
    "    mid=len(array)//2\n",
    "    left = array[:mid]\n",
    "    right = array[mid:]\n",
    "    mergeSort(left)\n",
    "    mergeSort(right)\n",
    "    i = j = k = 0\n",
    "\n",
    "    while (i<len(left) and j<len(right)):\n",
    "        if left[i] < right[j]:\n",
    "            array[k] = left[i]\n",
    "            i+=1\n",
    "        else:\n",
    "            array[k] = right[j]\n",
    "            j+=1\n",
    "        k+=1\n",
    "\n",
    "    while (i<len(left)):\n",
    "        array[k]=left[i]\n",
    "        i+=1\n",
    "        k+=1\n",
    "\n",
    "    while (j<len(right)):\n",
    "        array[k]=right[j]\n",
    "        j+=1\n",
    "        k+=1\n",
    "    return array\n",
    "        \n",
    "array = [8,2,6,4,5]\n",
    "print (\"Input = {}\".format(array))\n",
    "\n",
    "print (\"Merge Sort Output = {}\".format(mergeSort(array)))"
   ]
  },
  {
   "cell_type": "markdown",
   "metadata": {},
   "source": [
    "### 4. Quick Sort\n",
    "ref https://www.youtube.com/watch?v=Hoixgm4-P4M\n",
    "<br>Time Complexity: O(nlogn)\n",
    "<br>Space Complexity: O(n)"
   ]
  },
  {
   "cell_type": "code",
   "execution_count": 83,
   "metadata": {},
   "outputs": [
    {
     "name": "stdout",
     "output_type": "stream",
     "text": [
      "Input = [8, 2, 6, 4, 5]\n",
      "Quick Sort Output = [2, 4, 5, 6, 8]\n"
     ]
    }
   ],
   "source": [
    "from random import randint\n",
    "\n",
    "def quickSort(array):\n",
    "    if len(array) < 2:\n",
    "        return array\n",
    "    \n",
    "    low, same, high = [], [], []\n",
    "    pivot = array[randint(0, len(array) - 1)]\n",
    "    \n",
    "    for item in array:\n",
    "        if item < pivot:\n",
    "            low.append(item)\n",
    "        if item == pivot:\n",
    "            same.append(item)\n",
    "        if item > pivot:\n",
    "            high.append(item)    \n",
    "        \n",
    "    return quickSort(low) + same + quickSort(high)\n",
    "    \n",
    "array = [8,2,6,4,5]\n",
    "n = len(array)\n",
    "print (\"Input = {}\".format(array))\n",
    "print (\"Quick Sort Output = {}\".format(quickSort(array)))"
   ]
  },
  {
   "cell_type": "markdown",
   "metadata": {},
   "source": [
    "### 5. Selection Sort\n",
    "ref https://www.youtube.com/watch?v=g-PGLbMth_g\n",
    "<br>Time Complexity: O(n^2)\n",
    "<br>Space Complexity: O(1)"
   ]
  },
  {
   "cell_type": "code",
   "execution_count": 81,
   "metadata": {},
   "outputs": [
    {
     "name": "stdout",
     "output_type": "stream",
     "text": [
      "Input = [8, 2, 6, 4, 5]\n",
      "Selection Sort Output = [2, 4, 5, 6, 8]\n"
     ]
    }
   ],
   "source": [
    "def selectionSort(array):\n",
    "    n = len(array)\n",
    "    if n < 2:\n",
    "        return array\n",
    "    for i in range(n):\n",
    "        min_idx = i\n",
    "        for j in range(i + 1, n):\n",
    "            if array[j] < array[min_idx]:\n",
    "                min_idx = j\n",
    "        array[i],array[min_idx]=array[min_idx],array[i]\n",
    "    return array\n",
    " \n",
    "array = [8,2,6,4,5]\n",
    "n = len(array)\n",
    "print (\"Input = {}\".format(array))\n",
    "print (\"Selection Sort Output = {}\".format(selectionSort(array)))"
   ]
  }
 ],
 "metadata": {
  "kernelspec": {
   "display_name": "Python 3",
   "language": "python",
   "name": "python3"
  },
  "language_info": {
   "codemirror_mode": {
    "name": "ipython",
    "version": 3
   },
   "file_extension": ".py",
   "mimetype": "text/x-python",
   "name": "python",
   "nbconvert_exporter": "python",
   "pygments_lexer": "ipython3",
   "version": "3.8.5"
  }
 },
 "nbformat": 4,
 "nbformat_minor": 4
}
